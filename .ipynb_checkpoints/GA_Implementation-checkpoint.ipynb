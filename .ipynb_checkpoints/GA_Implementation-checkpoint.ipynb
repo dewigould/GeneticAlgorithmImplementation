{
 "cells": [
  {
   "cell_type": "code",
   "execution_count": 209,
   "metadata": {},
   "outputs": [],
   "source": [
    "import random\n",
    "import numpy as np\n",
    "from collections import Counter"
   ]
  },
  {
   "cell_type": "markdown",
   "metadata": {},
   "source": [
    "## Algorithm\n",
    "- We'll implement genetic algorihtm (GA) for the minimization of an n-parameter real-valued function\n",
    "- At the first step we create 50 individuals with random parameters\n",
    "- We use binary tournament selection: in this method we select 2 individuals to compete against eachother, the fittest gets to reproduce.\n",
    "- From the N/2 individuals left over, if this number is odd we take the fittest and it survives, and pair the rest up randomly into parents\n",
    "- For reproduction we'll use the WAX Cross-over method. This is where two parents produce N offspring (in our case 200). The genetic information for each child is given by combining the information of the parents, using the WAX equation. We select a random number r = [0,1], and then assign information $a_i = r a_i^{(1)} + (1-r) a_i ^{(2)}$, where $a_i^{(j)}$ is the ith genetic information of the jth parent\n",
    "- Then we use a 6-fold tournament among the children to choose who survives. The fittest children after this tournament replace their parents."
   ]
  },
  {
   "cell_type": "code",
   "execution_count": 329,
   "metadata": {},
   "outputs": [],
   "source": [
    "class Allele:\n",
    "    \n",
    "    def __init__(self,data):\n",
    "        self.data = data\n",
    "    \n",
    "    def get_data(self):\n",
    "        return(self.data)\n",
    "    \n",
    "    def update_data(self, input_data):\n",
    "        self.data = input_data\n",
    "\n",
    "class Individual:\n",
    "    \n",
    "    def __init__(self,chromosome):\n",
    "        self.chromosome = [Allele(i) for i in chromosome]\n",
    "        \n",
    "    def get_chromosome(self):\n",
    "        return(self.chromosome)\n",
    "    \n",
    "    def get_genetic_information(self):\n",
    "        return([i.get_data() for i in self.chromosome])\n",
    "    \n",
    "    def loss_score(self,func):\n",
    "        return func(self.get_genetic_information())\n",
    "    \n",
    "        \n",
    "    \n",
    "class Population:\n",
    "    \n",
    "    def __init__(self,list_of_individuals):\n",
    "        self.population_list = list_of_individuals\n",
    "    \n",
    "    def get_population_list(self):\n",
    "        return(self.population_list)\n",
    "    \n",
    "    def shuffle_population_into_random_pairs(self):\n",
    "        random.shuffle(self.population_list)\n",
    "        pairs = []\n",
    "        for i in range(int(len(self.population_list)/2)):\n",
    "            pairs.append((self.population_list[i],self.population_list[i+int(len(self.population_list)/2)]))\n",
    "        return(pairs)\n",
    "        \n",
    "    def select_for_reproduction_by_binary_tournament(self):\n",
    "        pairs = self.shuffle_population_into_random_pairs()\n",
    "        to_reproduce = []\n",
    "        for pair in pairs:\n",
    "            if pair[0].loss_score(loss_function) > pair[1].loss_score(loss_function):\n",
    "                to_reproduce.append(pair[0])\n",
    "            else:\n",
    "                to_reproduce.append(pair[1])\n",
    "        self.population_list = to_reproduce\n",
    "    \n",
    "    def get_list_of_parents(self):\n",
    "        self.select_for_reproduction_by_binary_tournament()\n",
    "        parents = self.shuffle_population_into_random_pairs()\n",
    "        return(parents)\n",
    "    \n",
    "\n",
    "    def get_list_of_children(self,parents):\n",
    "        parental_info = [i.get_genetic_information() for i in parents]\n",
    "        children_list = []\n",
    "        for i in range(200):\n",
    "            r = random.random()\n",
    "            atttributes = [r*parental_info[0][j] + (1-r)*parental_info[1][j] for j in range(len(parental_info[0]))]\n",
    "            children_list.append(Individual(atttributes))\n",
    "            \n",
    "        return(children_list)\n",
    "        #First group into pairs\n",
    "        #Then remove the one with lowest score from population\n",
    "        \n",
    "    \n",
    "    def do_k_fold_tournament_amongst_list_to_find_two_winners(self, pop_list,k):\n",
    "        #for N iterations of tournament\n",
    "        #pick 6 at random, find winner\n",
    "        #add to \"winners list\"\n",
    "        # after N=1000 iterations, 2 entries which appear as winners the most get returned\n",
    "        winners = []\n",
    "        count=0\n",
    "        for tournament in range(1000):\n",
    "            count +=1\n",
    "            competitors = random.sample(pop_list,k)\n",
    "            scores = [competitor.loss_score(loss_function) for competitor in competitors]\n",
    "            max_index = np.argmax(scores)\n",
    "            winners.append(competitors[max_index])\n",
    "            \n",
    "        final_winners_list = [i[0] for i in Counter(winners).most_common(4)]\n",
    "        return(final_winners_list)\n",
    "    \n",
    "    def replace_parents_with_children(self):\n",
    "        parent_list = self.get_list_of_parents()\n",
    "        children = []\n",
    "        for parents in parent_list:\n",
    "            children.append(self.get_list_of_children(parents))\n",
    "        survivors = []\n",
    "        for children_list in children:\n",
    "            survivors_from_children = self.do_k_fold_tournament_amongst_list_to_find_two_winners(children_list,6)\n",
    "            for survivor in survivors_from_children:\n",
    "                survivors.append(survivor)\n",
    "        self.population_list = survivors\n",
    "        \n",
    "    def perform_N_mutations(self,N):\n",
    "        for j in range(N):\n",
    "            self.replace_parents_with_children()\n",
    "        \n",
    "        \n",
    "    def perform_mutation(self):\n",
    "        # add this after\n",
    "        a = 1\n",
    "        return(a)\n",
    "            \n",
    "\n",
    "    \n",
    "    \n",
    "# Change by hand\n",
    "def loss_function(params):\n",
    "    return -(params[0]**2+params[1]**2 + 6 * np.sin(2*params[0])+ 6*np.sin(2*params[1]))\n",
    "\n",
    "\n",
    "\n",
    "    \n",
    "    "
   ]
  },
  {
   "cell_type": "code",
   "execution_count": 330,
   "metadata": {},
   "outputs": [],
   "source": [
    "def create_initial_population_of_size_N(N):\n",
    "    list_of_individuals=[]\n",
    "    for i in range(N):\n",
    "        a = random.uniform(-4,4)\n",
    "        b = random.uniform(-4,4)\n",
    "        list_of_individuals.append(Individual([a,b]))\n",
    "        \n",
    "    return Population(list_of_individuals)"
   ]
  },
  {
   "cell_type": "code",
   "execution_count": 331,
   "metadata": {},
   "outputs": [],
   "source": [
    "my_population = create_initial_population_of_size_N(50)"
   ]
  },
  {
   "cell_type": "code",
   "execution_count": 332,
   "metadata": {},
   "outputs": [
    {
     "data": {
      "text/plain": [
       "-5.162443711469773"
      ]
     },
     "execution_count": 332,
     "metadata": {},
     "output_type": "execute_result"
    }
   ],
   "source": [
    "my_population.get_population_list()[0].loss_score(loss_function)"
   ]
  },
  {
   "cell_type": "code",
   "execution_count": 334,
   "metadata": {},
   "outputs": [],
   "source": [
    "my_population.replace_parents_with_children()"
   ]
  },
  {
   "cell_type": "code",
   "execution_count": 335,
   "metadata": {},
   "outputs": [],
   "source": [
    "my_population.perform_N_mutations(3)"
   ]
  },
  {
   "cell_type": "code",
   "execution_count": 338,
   "metadata": {},
   "outputs": [
    {
     "data": {
      "text/plain": [
       "[-0.7313798728361667, -0.72593804555387]"
      ]
     },
     "execution_count": 338,
     "metadata": {},
     "output_type": "execute_result"
    }
   ],
   "source": [
    "my_population.get_population_list()[0].get_genetic_information()"
   ]
  },
  {
   "cell_type": "code",
   "execution_count": null,
   "metadata": {},
   "outputs": [],
   "source": []
  }
 ],
 "metadata": {
  "kernelspec": {
   "display_name": "Python 3",
   "language": "python",
   "name": "python3"
  },
  "language_info": {
   "codemirror_mode": {
    "name": "ipython",
    "version": 3
   },
   "file_extension": ".py",
   "mimetype": "text/x-python",
   "name": "python",
   "nbconvert_exporter": "python",
   "pygments_lexer": "ipython3",
   "version": "3.7.9"
  }
 },
 "nbformat": 4,
 "nbformat_minor": 4
}
